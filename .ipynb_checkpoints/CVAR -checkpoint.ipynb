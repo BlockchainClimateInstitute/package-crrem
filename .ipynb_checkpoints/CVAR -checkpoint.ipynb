{
 "cells": [
  {
   "cell_type": "markdown",
   "metadata": {},
   "source": [
    "next steps:\n",
    "1. building attributes: json of building attributes - polymorphism\n",
    "2. unit test this\n",
    "3. encapsulation\n",
    "4. come up with VAR for all properties"
   ]
  },
  {
   "cell_type": "code",
   "execution_count": 1,
   "metadata": {},
   "outputs": [],
   "source": [
    "import pandas as pd\n",
    "import numpy as np\n",
    "import matplotlib.pyplot as plt\n",
    "from matplotlib import style\n",
    "style.use('ggplot')\n",
    "from crrem.database import DataQ\n",
    "import warnings\n",
    "warnings.filterwarnings(\"ignore\")\n",
    "\n",
    "# impport raw data from database\n",
    "target_level = DataQ(\"select * from crrem.target_levels\").data\n",
    "target_type = DataQ(\"select * from crrem.target_type\").data\n",
    "property_type = DataQ(\"select * from crrem.vw_epc_to_crrem_prop_type\").data\n",
    "country = DataQ(\"select * from crrem.country\").data\n",
    "country_factor = DataQ(\"select * from crrem.country_factor\").data\n",
    "currency = DataQ(\"select * from crrem.currency\").data\n",
    "emission_factor = DataQ(\"select * from crrem.emission_factors\").data\n",
    "energy_conversion_factor = DataQ(\"select * from crrem.energy_conversion_factor\").data\n",
    "energy_source = DataQ(\"select * from crrem.energy_source\").data\n",
    "price = DataQ(\"select * from crrem.price\").data\n",
    "price.set_index('year', inplace=True)\n",
    "price['price'] = price['price'].astype(float)\n",
    "scenario_gw = DataQ(\"select * from crrem.scenario_gw\").data\n",
    "zip_nuts = DataQ(\"select * from crrem.zip_to_nuts\").data\n",
    "zip_nuts.set_index('zip_code', inplace=True)\n",
    "energy_use_type = DataQ(\"select * from crrem.energy_use_type\").data\n",
    "energy_use_breakdown = DataQ(\"select * from crrem.energy_use_breakdown\").data\n",
    "epc_main_fuel_mapping = DataQ(\"select * from crrem.epc_main_fuel_mapping\").data\n",
    "hdd_cdd_by_nuts = DataQ(\"select * from crrem.hdd_cdd_by_nuts\").data\n",
    "hdd_cdd_by_nuts.set_index('nuts_code', inplace=True)"
   ]
  },
  {
   "cell_type": "code",
   "execution_count": 68,
   "metadata": {},
   "outputs": [],
   "source": [
    "json = {'BUILDING_REFERENCE_NUMBER':5336094578,'PROPERTY_GROUPING':'Domestic','PROPERTY_TYPE':'House',\n",
    "       'POSTCODE': 'TS25 5HS','CO2_EMISS_CURR_PER_FLOOR_AREA': 66.0,'MAIN_FUEL':'mains gas (not community)',\n",
    "       'ENERGY_CONSUMPTION_CURRENT':375,'TOTAL_FLOOR_AREA':101.0}"
   ]
  },
  {
   "cell_type": "code",
   "execution_count": 163,
   "metadata": {},
   "outputs": [],
   "source": [
    "epc = DataQ(f\"\"\"select * from public.epcsourcedata where \"BUILDING_REFERENCE_NUMBER\" = {750222380000} \"\"\").data\n",
    "epc = epc.set_index('BUILDING_REFERENCE_NUMBER')"
   ]
  },
  {
   "cell_type": "code",
   "execution_count": 80,
   "metadata": {},
   "outputs": [
    {
     "data": {
      "text/plain": [
       "True"
      ]
     },
     "execution_count": 80,
     "metadata": {},
     "output_type": "execute_result"
    }
   ],
   "source": [
    "epc['ENERGY_CONSUMPTION_CURRENT'].iloc[0] == None"
   ]
  },
  {
   "cell_type": "code",
   "execution_count": 164,
   "metadata": {},
   "outputs": [
    {
     "data": {
      "text/html": [
       "<div>\n",
       "<style scoped>\n",
       "    .dataframe tbody tr th:only-of-type {\n",
       "        vertical-align: middle;\n",
       "    }\n",
       "\n",
       "    .dataframe tbody tr th {\n",
       "        vertical-align: top;\n",
       "    }\n",
       "\n",
       "    .dataframe thead th {\n",
       "        text-align: right;\n",
       "    }\n",
       "</style>\n",
       "<table border=\"1\" class=\"dataframe\">\n",
       "  <thead>\n",
       "    <tr style=\"text-align: right;\">\n",
       "      <th></th>\n",
       "      <th>PROPERTY_GROUPING</th>\n",
       "      <th>PROPERTY_TYPE</th>\n",
       "      <th>POSTCODE</th>\n",
       "      <th>CO2_EMISS_CURR_PER_FLOOR_AREA</th>\n",
       "      <th>MAIN_FUEL</th>\n",
       "      <th>ENERGY_CONSUMPTION_CURRENT</th>\n",
       "      <th>TOTAL_FLOOR_AREA</th>\n",
       "      <th>CO2_EMISS_CURR_PER_FLOOR_AREA_Median</th>\n",
       "      <th>ENERGY_CONSUMPTION_CURRENT_Median</th>\n",
       "      <th>NutsCode</th>\n",
       "    </tr>\n",
       "    <tr>\n",
       "      <th>BUILDING_REFERENCE_NUMBER</th>\n",
       "      <th></th>\n",
       "      <th></th>\n",
       "      <th></th>\n",
       "      <th></th>\n",
       "      <th></th>\n",
       "      <th></th>\n",
       "      <th></th>\n",
       "      <th></th>\n",
       "      <th></th>\n",
       "      <th></th>\n",
       "    </tr>\n",
       "  </thead>\n",
       "  <tbody>\n",
       "    <tr>\n",
       "      <th>750222380000</th>\n",
       "      <td>Non-Domestic</td>\n",
       "      <td>C2 Residential Institutions - Universities and...</td>\n",
       "      <td>WC1E 6BP</td>\n",
       "      <td>47.43</td>\n",
       "      <td>Natural Gas</td>\n",
       "      <td>None</td>\n",
       "      <td>1391.0</td>\n",
       "      <td>50.68</td>\n",
       "      <td>280</td>\n",
       "      <td>UKI31</td>\n",
       "    </tr>\n",
       "  </tbody>\n",
       "</table>\n",
       "</div>"
      ],
      "text/plain": [
       "                          PROPERTY_GROUPING  \\\n",
       "BUILDING_REFERENCE_NUMBER                     \n",
       "750222380000                   Non-Domestic   \n",
       "\n",
       "                                                               PROPERTY_TYPE  \\\n",
       "BUILDING_REFERENCE_NUMBER                                                      \n",
       "750222380000               C2 Residential Institutions - Universities and...   \n",
       "\n",
       "                           POSTCODE  CO2_EMISS_CURR_PER_FLOOR_AREA  \\\n",
       "BUILDING_REFERENCE_NUMBER                                            \n",
       "750222380000               WC1E 6BP                          47.43   \n",
       "\n",
       "                             MAIN_FUEL ENERGY_CONSUMPTION_CURRENT  \\\n",
       "BUILDING_REFERENCE_NUMBER                                           \n",
       "750222380000               Natural Gas                       None   \n",
       "\n",
       "                           TOTAL_FLOOR_AREA  \\\n",
       "BUILDING_REFERENCE_NUMBER                     \n",
       "750222380000                         1391.0   \n",
       "\n",
       "                           CO2_EMISS_CURR_PER_FLOOR_AREA_Median  \\\n",
       "BUILDING_REFERENCE_NUMBER                                         \n",
       "750222380000                                              50.68   \n",
       "\n",
       "                           ENERGY_CONSUMPTION_CURRENT_Median NutsCode  \n",
       "BUILDING_REFERENCE_NUMBER                                              \n",
       "750222380000                                             280    UKI31  "
      ]
     },
     "execution_count": 164,
     "metadata": {},
     "output_type": "execute_result"
    }
   ],
   "source": [
    "epc"
   ]
  },
  {
   "cell_type": "code",
   "execution_count": 155,
   "metadata": {},
   "outputs": [
    {
     "data": {
      "text/plain": [
       "BUILDING_REFERENCE_NUMBER\n",
       "750222380000    280\n",
       "Name: ENERGY_CONSUMPTION_CURRENT, dtype: object"
      ]
     },
     "execution_count": 155,
     "metadata": {},
     "output_type": "execute_result"
    }
   ],
   "source": [
    "b.epc.loc[:,'ENERGY_CONSUMPTION_CURRENT']"
   ]
  },
  {
   "cell_type": "code",
   "execution_count": 156,
   "metadata": {},
   "outputs": [],
   "source": [
    "class Building:\n",
    " \n",
    "    def __init__(self, building_details, building_price):\n",
    "        #add 7 EPC columns as property_details, in a json object\n",
    "        if type(building_details) is int:\n",
    "            epc = DataQ(f\"\"\"select * from public.epcsourcedata where \"BUILDING_REFERENCE_NUMBER\" = {building_details} \"\"\").data\n",
    "            self.epc = epc.set_index('BUILDING_REFERENCE_NUMBER')\n",
    "        elif type(building_details) is dict:\n",
    "            #convert row of json to dataframe row\n",
    "            self.epc = pd.DataFrame(data=building_details,index=[0]).set_index('BUILDING_REFERENCE_NUMBER')\n",
    "            \n",
    "        self.building_price = building_price\n",
    "        self.stranding_year = None\n",
    "        self.loss_vlaue = None\n",
    "\n",
    "\n",
    "    def VAR(self, target_temp=1.5, RCP_scenario=4.5, discount_factor=0.02, end_year=2050, Diagram=True):\n",
    "        # 1.Data preparation GHG emission target\n",
    "        # find property type id\n",
    "        property_type_id = property_type.loc[property_type['epc_prop_type'] == self.epc['PROPERTY_TYPE'].iloc[0]]['prop_use_type_id'].iloc[0]\n",
    "\n",
    "        # specify target based on property type/target type/scenario\n",
    "        years = list(range(2018,end_year+1))\n",
    "        if target_temp == 1.5:\n",
    "            gw_scenario_id = 1\n",
    "        elif target_temp == 2.0:\n",
    "            gw_scenario_id = 2\n",
    "        emission_target = target_level[(target_level['prop_use_type_id']==property_type_id) & (target_level['target_type_id']==1) & (target_level['gw_scenario_id']==gw_scenario_id)]['target_level']\n",
    "        emission_target = emission_target[:end_year-2018+1]\n",
    "        emission_target.index = years\n",
    "        energy_target = target_level[(target_level['prop_use_type_id']==property_type_id) & (target_level['target_type_id']==2) & (target_level['gw_scenario_id']==gw_scenario_id)]['target_level']\n",
    "        energy_target = energy_target[:end_year-2018+1]\n",
    "        energy_target.index = years\n",
    "\n",
    "        # HDD/CDD projection\n",
    "        # HDD - HDD index\n",
    "        RCP = 'RCP' + str(RCP_scenario)\n",
    "\n",
    "#         if self.epc['POSTCODE'].iloc[0] != 0:\n",
    "#             NUTS3 = 'UK' + self.epc['POSTCODE'].iloc[0].split(' ')[0]\n",
    "\n",
    "        years_index = list(range(3, 36))\n",
    "        HDD = pd.DataFrame(columns=years_index, index=[1])\n",
    "        for year in years_index:\n",
    "            if RCP == 'RCP4.5':\n",
    "                if len(self.epc['NutsCode']) > 1:\n",
    "                    HDD.iloc[0, year - 3] = (hdd_cdd_by_nuts.loc[self.epc['NutsCode']]['hdd_2015'].iloc[0] + year *\n",
    "                                             hdd_cdd_by_nuts.loc[self.epc['NutsCode']]['hdd_rcp45_pa'].iloc[0]) / (\n",
    "                                                        hdd_cdd_by_nuts.loc[self.epc['NutsCode']][\n",
    "                                                            'hdd_2015'].iloc[0] + 3 *\n",
    "                                                        hdd_cdd_by_nuts.loc[self.epc['NutsCode']]['hdd_rcp45_pa'].iloc[0])\n",
    "                else:\n",
    "                    HDD.iloc[0, year - 3] = (hdd_cdd_by_nuts.loc[self.epc['NutsCode']]['hdd_2015'].iloc[0] + year *\n",
    "                                             hdd_cdd_by_nuts.loc[self.epc['NutsCode']]['hdd_rcp45_pa'].iloc[0]) / (\n",
    "                                                        hdd_cdd_by_nuts.loc[self.epc['NutsCode']]['hdd_2015'].iloc[0] + 3 *\n",
    "                                                        hdd_cdd_by_nuts.loc[self.epc['NutsCode']]['hdd_rcp45_pa'].iloc[0])\n",
    "            elif RCP == 'RCP8.5':\n",
    "                if len(self.epc['NutsCode']) > 1:\n",
    "                    HDD.iloc[0, year - 3] = (hdd_cdd_by_nuts.loc[self.epc['NutsCode']]['hdd_2015'].iloc[0] + year *\n",
    "                                             hdd_cdd_by_nuts.loc[self.epc['NutsCode']]['hdd_rcp85_pa'].iloc[0]) / (\n",
    "                                                        hdd_cdd_by_nuts.loc[self.epc['NutsCode']][\n",
    "                                                            'hdd_2015'].iloc[0] + 3 *\n",
    "                                                        hdd_cdd_by_nuts.loc[self.epc['NutsCode']]['hdd_rcp85_pa'].iloc[0])\n",
    "                else:\n",
    "                    HDD.iloc[0, year - 3] = (hdd_cdd_by_nuts.loc[self.epc['NutsCode']]['hdd_2015'].iloc[0] + year *\n",
    "                                             hdd_cdd_by_nuts.loc[self.epc['NutsCode']]['hdd_rcp85_pa'].iloc[0]) / (\n",
    "                                                        hdd_cdd_by_nuts.loc[self.epc['NutsCode']]['hdd_2015'].iloc[0] + 3 *\n",
    "                                                        hdd_cdd_by_nuts.loc[self.epc['NutsCode']]['hdd_rcp85_pa'].iloc[0])\n",
    "\n",
    "        # assumption1: if one zip macthes multiple nuts, take the first nuts\n",
    "        # CDD - CDD index\n",
    "        CDD = pd.DataFrame(columns=years_index, index=[1])\n",
    "        for year in years_index:\n",
    "            if RCP == 'RCP4.5':\n",
    "                if len(self.epc['NutsCode']) > 1:\n",
    "                    CDD.iloc[0, year - 3] = (hdd_cdd_by_nuts.loc[self.epc['NutsCode']]['cdd_2015'].iloc[0] + year *\n",
    "                                             hdd_cdd_by_nuts.loc[self.epc['NutsCode']]['cdd_rcp45_pa'].iloc[0]) / (\n",
    "                                                        hdd_cdd_by_nuts.loc[self.epc['NutsCode']][\n",
    "                                                            'cdd_2015'].iloc[0] + 3 *\n",
    "                                                        hdd_cdd_by_nuts.loc[self.epc['NutsCode']]['cdd_rcp45_pa'].iloc[0])\n",
    "                else:\n",
    "                    CDD.iloc[0, year - 3] = (hdd_cdd_by_nuts.loc[self.epc['NutsCode']]['cdd_2015'].iloc[0] + year *\n",
    "                                             hdd_cdd_by_nuts.loc[self.epc['NutsCode']]['cdd_rcp45_pa'].iloc[0]) / (\n",
    "                                                        hdd_cdd_by_nuts.loc[self.epc['NutsCode']]['cdd_2015'].iloc[0] + 3 *\n",
    "                                                        hdd_cdd_by_nuts.loc[self.epc['NutsCode']]['cdd_rcp45_pa'].iloc[0])\n",
    "            else:\n",
    "                if len(self.epc['NutsCode']) > 1:\n",
    "                    CDD.iloc[0, year - 3] = (hdd_cdd_by_nuts.loc[self.epc['NutsCode']]['cdd_2015'].iloc[0] + year *\n",
    "                                             hdd_cdd_by_nuts.loc[self.epc['NutsCode']]['cdd_rcp85_pa'].iloc[0]) / (\n",
    "                                                        hdd_cdd_by_nuts.loc[self.epc['NutsCode']][\n",
    "                                                            'cdd_2015'].iloc[0] + 3 *\n",
    "                                                        hdd_cdd_by_nuts.loc[self.epc['NutsCode']]['cdd_rcp85_pa'].iloc[0])\n",
    "                else:\n",
    "                    CDD.iloc[0, year - 3] = (hdd_cdd_by_nuts.loc[self.epc['NutsCode']]['cdd_2015'].iloc[0] + year *\n",
    "                                             hdd_cdd_by_nuts.loc[self.epc['NutsCode']]['cdd_rcp85_pa'].iloc[0]) / (\n",
    "                                                        hdd_cdd_by_nuts.loc[self.epc['NutsCode']]['cdd_2015'].iloc[0] + 3 *\n",
    "                                                        hdd_cdd_by_nuts.loc[self.epc['NutsCode']]['cdd_rcp85_pa'].iloc[0])\n",
    "        CDD.columns = list(range(2018, 2051))\n",
    "        HDD.columns = list(range(2018, 2051))\n",
    "        HDD.fillna(0, inplace=True)\n",
    "        CDD.fillna(0, inplace=True)\n",
    "        HDD = HDD.iloc[:,:end_year-2018+1]\n",
    "        CDD = CDD.iloc[:,:end_year-2018+1]\n",
    "\n",
    "        # 2. GHG emission projection\n",
    "        # emission data\n",
    "        #impute missing data with median of property type\n",
    "        if self.epc['CO2_EMISS_CURR_PER_FLOOR_AREA'].iloc[0] == None:\n",
    "            current_emission = self.epc['CO2_EMISS_CURR_PER_FLOOR_AREA_Median'].iloc[0]\n",
    "        else:\n",
    "            current_emission = self.epc['CO2_EMISS_CURR_PER_FLOOR_AREA'].iloc[0]\n",
    "        elec_heat = energy_use_breakdown['percentage'][0] / 100  # share of electricity for heating in UK\n",
    "        elec_cool = energy_use_breakdown['percentage'][1] / 100\n",
    "        fuel_heat = energy_use_breakdown['percentage'][2] / 100\n",
    "        grid_uk = emission_factor['value']  # emission factor for UK\n",
    "\n",
    "        # electricity usage share\n",
    "        electricity_share = epc_main_fuel_mapping.loc[epc_main_fuel_mapping['epc_main_fuel'] == self.epc['MAIN_FUEL'].iloc[0]]['weight_elec'].iloc[0]\n",
    "\n",
    "        emission = pd.Series(0, index=list(range(2018, 2051)))\n",
    "\n",
    "        # assumption 2: district heating/cooling and fugitive emission not considered\n",
    "        for year in years:\n",
    "            if HDD.iloc[0, year - 2018] != 0:\n",
    "                emission.iloc[year - 2018] = current_emission * (electricity_share * grid_uk[year - 2018] / grid_uk[0] * (\n",
    "                            1 + elec_heat * (HDD.iloc[0, year - 2018] - 1) + elec_cool * (CDD.iloc[0, year - 2018] - 1)) + (\n",
    "                                                                             (1 - electricity_share) * HDD.iloc[\n",
    "                                                                         0, year - 2018] / HDD.iloc[0, 2018 - 2018] * (\n",
    "                                                                                         1 + fuel_heat * (HDD.iloc[\n",
    "                                                                                                              0, year - 2018] - 1))))\n",
    "            if HDD.iloc[0, year - 2018] == 0:\n",
    "                emission.iloc[year - 2018] = current_emission * (electricity_share * grid_uk[year - 2018] / grid_uk[0] * (\n",
    "                            1 + elec_heat * (HDD.iloc[0, year - 2018] - 1) + elec_cool * (CDD.iloc[0, year - 2018] - 1)))\n",
    "        emission = emission[:end_year-2018+1]\n",
    "        \n",
    "        emission_baseline = pd.Series(current_emission)\n",
    "        emission_baseline = emission_baseline.repeat(len(emission.T))\n",
    "        emission_baseline.index = years \n",
    "        emission_excess = emission - emission_target\n",
    "        if len(emission_excess[emission_excess > 0]) == 0:\n",
    "            emission_stranding_year = 2050\n",
    "        else:\n",
    "            emission_stranding_year = emission_excess[emission_excess > 0].index[0]\n",
    "\n",
    "        # 3. energy projection\n",
    "        # energy energy projection\n",
    "        if self.epc['ENERGY_CONSUMPTION_CURRENT'].iloc[0] == None:\n",
    "            current_energy = self.epc['ENERGY_CONSUMPTION_CURRENT_Median'].iloc[0]\n",
    "        else:\n",
    "            current_energy = self.epc['ENERGY_CONSUMPTION_CURRENT'].iloc[0]\n",
    "        energy = pd.Series(0, index=list(range(2018, 2051)))\n",
    "        for year in years:\n",
    "            if HDD.iloc[0, year - 2018] != 0:\n",
    "                energy.iloc[year - 2018] = current_energy * (electricity_share * grid_uk[year - 2018] / grid_uk[0] * (\n",
    "                            1 + elec_heat * (HDD.iloc[0, year - 2018] - 1) + elec_cool * (CDD.iloc[0, year - 2018] - 1)) + (\n",
    "                                                                         (1 - electricity_share) * HDD.iloc[\n",
    "                                                                     0, year - 2018] / HDD.iloc[0, 2018 - 2018] * (\n",
    "                                                                                     1 + fuel_heat * (\n",
    "                                                                                         HDD.iloc[0, year - 2018] - 1))))\n",
    "            if HDD.iloc[0, year - 2018] == 0:\n",
    "                energy.iloc[year - 2018] = current_energy * (electricity_share * grid_uk[year - 2018] / grid_uk[0] * (\n",
    "                            1 + elec_heat * (HDD.iloc[0, year - 2018] - 1) + elec_cool * (CDD.iloc[0, year - 2018] - 1)))\n",
    "        energy = energy[:end_year-2018+1]\n",
    "\n",
    "        energy_baseline = pd.Series(current_energy)\n",
    "        energy_baseline = energy_baseline.repeat(len(energy.T))\n",
    "        energy_baseline.index = years \n",
    "        energy_excess = energy - energy_target\n",
    "        if len(energy_excess[energy_excess > 0]) == 0:\n",
    "            energy_stranding_year = 2050\n",
    "        else:\n",
    "            energy_stranding_year = energy_excess[energy_excess > 0].index[0]\n",
    "\n",
    "        # 4. energy costs\n",
    "        elec_cost = price[price['source']=='elect_incl_vat']['price'][:end_year-2018+1] #electricity price incl. VAT\n",
    "        gas_cost = price[price['source']=='gas_incl_vat']['price'][:end_year-2018+1] #gas price incl. VAT\n",
    "        oil_cost = price[price['source']=='oil_incl_vat']['price'][:end_year-2018+1] #oil price incl. VAT\n",
    "        wood_cost = price[price['source']=='wood_incl_vat']['price'][:end_year-2018+1] #wood pellets price incl. VAT\n",
    "        coal_cost = price[price['source']=='coal_incl_vat']['price'][:end_year-2018+1] #coal price incl. VAT\n",
    "        carbon_price = price[price['source']=='carbon']['price'][:end_year-2018+1] #carbon price incl. VAT\n",
    "        total_energy = current_energy\n",
    "\n",
    "        elec_cost = total_energy*elec_cost*epc_main_fuel_mapping.loc[epc_main_fuel_mapping['epc_main_fuel'] == self.epc['MAIN_FUEL'].iloc[0]]['weight_elec'].iloc[0]\n",
    "        gas_cost = total_energy*gas_cost*epc_main_fuel_mapping.loc[epc_main_fuel_mapping['epc_main_fuel'] == self.epc['MAIN_FUEL'].iloc[0]]['weight_gas'].iloc[0]\n",
    "        oil_cost = total_energy*oil_cost*epc_main_fuel_mapping.loc[epc_main_fuel_mapping['epc_main_fuel'] == self.epc['MAIN_FUEL'].iloc[0]]['weight_oil'].iloc[0]\n",
    "        wood_cost = total_energy*wood_cost*epc_main_fuel_mapping.loc[epc_main_fuel_mapping['epc_main_fuel'] == self.epc['MAIN_FUEL'].iloc[0]]['weight_wood'].iloc[0]\n",
    "        coal_cost = total_energy*coal_cost*epc_main_fuel_mapping.loc[epc_main_fuel_mapping['epc_main_fuel'] == self.epc['MAIN_FUEL'].iloc[0]]['weight_coal'].iloc[0]\n",
    "\n",
    "        # 5. excess carbon costs and value at risk\n",
    "        floor_area = self.epc['TOTAL_FLOOR_AREA'].iloc[0]\n",
    "        total_emission = emission * floor_area\n",
    "        total_target = emission_target * floor_area\n",
    "        excess_cost = carbon_price * (total_emission - total_target)\n",
    "\n",
    "        costs = pd.Series(np.nan, index=years)\n",
    "        value = pd.Series(np.nan, index=years)\n",
    "        for year in years:\n",
    "            if excess_cost[year] < 0:\n",
    "                costs[year] = 0\n",
    "                value[year] = excess_cost[year]\n",
    "            else:\n",
    "                costs[year] = excess_cost[year]\n",
    "                value[year] = 0\n",
    "\n",
    "        discount_costs = costs.tolist().copy()\n",
    "        discount_value = value.tolist().copy()\n",
    "\n",
    "        for year in years:\n",
    "            discount_costs[year - 2018] = discount_costs[year - 2018] / (1 + discount_factor) ** (year - 2018)\n",
    "            discount_value[year - 2018] = discount_value[year - 2018] / (1 + discount_factor) ** (year - 2018)\n",
    "\n",
    "        VAR = (sum(discount_costs) + sum(discount_value)) / self.building_price\n",
    "        \n",
    "        self.stranding_year = emission_stranding_year\n",
    "        self.loss_value = sum(discount_costs) + sum(discount_value)\n",
    "        #plot diagram\n",
    "        if Diagram == True:\n",
    "            years = list(range(2018,end_year+1))\n",
    "            plt.figure(figsize = (20,10))\n",
    "            plt.plot(emission_target, 'g', label = 'Decarbonisation emission_target')\n",
    "            plt.plot(emission, 'k', label = 'Climate and grid corrected asset performance')\n",
    "            plt.plot(emission_baseline, ':k', label = 'emission_baseline asset performance')\n",
    "            plt.plot(emission_baseline.iloc[[0]],'kD', markersize = 10, label = '2018 performance') \n",
    "\n",
    "            #highlight stranding year\n",
    "            stranding = emission_target - emission\n",
    "            if (stranding<0).any():\n",
    "                stranding_year = stranding[stranding < 0].index[0]\n",
    "                plt.plot(emission[[stranding_year]], 'ro', markersize = 20, label = 'Stranding')\n",
    "\n",
    "            #Excess emissions\n",
    "            plt.fill_between(years, emission_target.tolist(), emission.tolist(), where = (emission_target < emission), color='C1', alpha=0.3, label = 'Excess emissions')\n",
    "            plt.legend(loc = 'best', fontsize = 12)\n",
    "\n",
    "            #set title and axis labels\n",
    "            plt.title(f'Stranding Diagram(Asset #{self.epc.index.tolist()[0]})', fontsize = 25)\n",
    "            plt.xlabel('Year', fontsize = 15)\n",
    "            plt.ylabel('GHG intensity [kgCO2e/m²/a]', fontsize = 15)\n",
    "            plt.show()\n",
    "        \n",
    "        return VAR"
   ]
  },
  {
   "cell_type": "code",
   "execution_count": 157,
   "metadata": {},
   "outputs": [],
   "source": [
    "class Portfolio:\n",
    "\n",
    "    def __init__(self, buildings):\n",
    "        self.buildings = buildings\n",
    "    \n",
    "    def add_building(self, building):\n",
    "        self.buildings.append(building)\n",
    "        \n",
    "    def VAR(self,target_temp=1.5, RCP_scenario=4.5, discount_factor=0.02, end_year=2050, Diagram=True):\n",
    "        total_loss = 0\n",
    "        total_price = 0\n",
    "        years = list(range(2018,end_year+1))\n",
    "        strand_buildings = pd.Series(0, index=years)\n",
    "        for building in self.buildings:\n",
    "            building.VAR(target_temp=target_temp, RCP_scenario=RCP_scenario, discount_factor=discount_factor, end_year=end_year, Diagram=False)\n",
    "            total_loss += building.loss_value\n",
    "            total_price += building.building_price\n",
    "            if building.stranding_year < end_year:\n",
    "                strand_buildings[building.stranding_year] += 1\n",
    "        if Diagram == True:\n",
    "            strand_buildings = strand_buildings.cummax()\n",
    "            plt.figure(figsize = (20,10))\n",
    "            plt.plot(strand_buildings, 'g', label = 'Decarbonisation emission_target')\n",
    "            plt.title('Number of stranding assets over time', fontsize=25)\n",
    "            plt.show()          \n",
    "        return total_loss/total_price"
   ]
  },
  {
   "cell_type": "code",
   "execution_count": 165,
   "metadata": {},
   "outputs": [],
   "source": [
    "a = Building(5336094578,500000)\n",
    "b = Building(750222380000,500000)\n",
    "\n",
    "json = {'BUILDING_REFERENCE_NUMBER':5336094578,'PROPERTY_GROUPING':'Domestic','PROPERTY_TYPE':'House',\n",
    "        'CO2_EMISS_CURR_PER_FLOOR_AREA': 66.0,'MAIN_FUEL':'mains gas (not community)',\n",
    "       'ENERGY_CONSUMPTION_CURRENT':375,'TOTAL_FLOOR_AREA':101.0,'NutsCode':'UKC11'}\n",
    "c = Building(json,500000)\n",
    "buildings = [c,b]"
   ]
  },
  {
   "cell_type": "code",
   "execution_count": 168,
   "metadata": {},
   "outputs": [
    {
     "data": {
      "text/plain": [
       "nuts_year       2016.0\n",
       "cdd_2015           0.0\n",
       "cdd_rcp45_pa       0.0\n",
       "cdd_rcp85_pa       0.0\n",
       "hdd_2015           0.0\n",
       "hdd_rcp45_pa       0.0\n",
       "hdd_rcp85_pa       0.0\n",
       "Name: UKI31, dtype: float64"
      ]
     },
     "execution_count": 168,
     "metadata": {},
     "output_type": "execute_result"
    }
   ],
   "source": [
    "hdd_cdd_by_nuts.loc['UKI31']"
   ]
  },
  {
   "cell_type": "code",
   "execution_count": 174,
   "metadata": {},
   "outputs": [
    {
     "data": {
      "text/plain": [
       "-0.030211422709852602"
      ]
     },
     "execution_count": 174,
     "metadata": {},
     "output_type": "execute_result"
    }
   ],
   "source": [
    "b.VAR(Diagram=False,end_year=2050)"
   ]
  },
  {
   "cell_type": "code",
   "execution_count": 144,
   "metadata": {},
   "outputs": [],
   "source": [
    "p = Portfolio(buildings)"
   ]
  },
  {
   "cell_type": "code",
   "execution_count": 175,
   "metadata": {},
   "outputs": [
    {
     "data": {
      "image/png": "[encoded data removed]",
      "text/plain": [
       "<Figure size 1440x720 with 1 Axes>"
      ]
     },
     "metadata": {},
     "output_type": "display_data"
    },
    {
     "data": {
      "text/plain": [
       "-0.00878260334211799"
      ]
     },
     "execution_count": 175,
     "metadata": {},
     "output_type": "execute_result"
    }
   ],
   "source": [
    "p.VAR(end_year=2030, Diagram=True)"
   ]
  },
  {
   "cell_type": "code",
   "execution_count": null,
   "metadata": {},
   "outputs": [],
   "source": []
  }
 ],
 "metadata": {
  "kernelspec": {
   "display_name": "Python 3",
   "language": "python",
   "name": "python3"
  },
  "language_info": {
   "codemirror_mode": {
    "name": "ipython",
    "version": 3
   },
   "file_extension": ".py",
   "mimetype": "text/x-python",
   "name": "python",
   "nbconvert_exporter": "python",
   "pygments_lexer": "ipython3",
   "version": "3.8.5"
  }
 },
 "nbformat": 4,
 "nbformat_minor": 4
}
